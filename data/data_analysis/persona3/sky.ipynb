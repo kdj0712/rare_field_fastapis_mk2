{
 "cells": [
  {
   "cell_type": "markdown",
   "id": "26fc422b-bdac-4aba-9197-89299776e584",
   "metadata": {},
   "source": [
    "# 2021 지역별 질병분류코드별 사망자 수"
   ]
  },
  {
   "cell_type": "markdown",
   "id": "e3cecfcd-3994-4ad4-bae7-9d85ff14316f",
   "metadata": {},
   "source": [
    "## Setting"
   ]
  },
  {
   "cell_type": "code",
   "execution_count": 1,
   "id": "60c2c20c-3f6b-4531-8ce6-385d5eb07403",
   "metadata": {
    "scrolled": true
   },
   "outputs": [
    {
     "name": "stdout",
     "output_type": "stream",
     "text": [
      "Reading package lists... Done\n",
      "Building dependency tree... Done\n",
      "Reading state information... Done\n",
      "fonts-nanum is already the newest version (20200506-1).\n",
      "0 upgraded, 0 newly installed, 0 to remove and 0 not upgraded.\n",
      "Font directories:\n",
      "\t/root/.local/share/fonts\n",
      "\t/usr/local/share/fonts\n",
      "\t/usr/share/fonts\n",
      "\t/root/.fonts\n",
      "\t/usr/share/fonts/truetype\n",
      "\t/usr/share/fonts/truetype/dejavu\n",
      "\t/usr/share/fonts/truetype/liberation\n",
      "\t/usr/share/fonts/truetype/nanum\n",
      "/root/.local/share/fonts: skipping, no such directory\n",
      "/usr/local/share/fonts: caching, new cache contents: 0 fonts, 0 dirs\n",
      "/usr/share/fonts: caching, new cache contents: 0 fonts, 1 dirs\n",
      "/usr/share/fonts/truetype: caching, new cache contents: 0 fonts, 3 dirs\n",
      "/usr/share/fonts/truetype/dejavu: caching, new cache contents: 22 fonts, 0 dirs\n",
      "/usr/share/fonts/truetype/liberation: caching, new cache contents: 16 fonts, 0 dirs\n",
      "/usr/share/fonts/truetype/nanum: caching, new cache contents: 12 fonts, 0 dirs\n",
      "/root/.fonts: skipping, no such directory\n",
      "/usr/share/fonts/truetype: skipping, looped directory detected\n",
      "/usr/share/fonts/truetype/dejavu: skipping, looped directory detected\n",
      "/usr/share/fonts/truetype/liberation: skipping, looped directory detected\n",
      "/usr/share/fonts/truetype/nanum: skipping, looped directory detected\n",
      "/var/cache/fontconfig: cleaning cache directory\n",
      "/root/.cache/fontconfig: not cleaning non-existent cache directory\n",
      "/root/.fontconfig: not cleaning non-existent cache directory\n",
      "fc-cache: succeeded\n"
     ]
    }
   ],
   "source": [
    "### 한글 폰트 설치\n",
    "!apt-get install -y fonts-nanum\n",
    "!fc-cache -fv\n",
    "!rm ~/.cache/matplotlib -rf\n",
    "# 설치 후 colab의 경우 Runtime > Restart session 필요"
   ]
  },
  {
   "cell_type": "code",
   "execution_count": 2,
   "id": "a668a4f9-e43a-413b-b6b6-4b4ccd1e14a9",
   "metadata": {},
   "outputs": [],
   "source": [
    "import matplotlib.pyplot as plt\n",
    "import matplotlib as mpl\n",
    "mpl.rc('font', family='NanumBarunGothic')"
   ]
  },
  {
   "cell_type": "code",
   "execution_count": 3,
   "id": "ee97d73c-dcdb-4c00-a509-c415f024d9e7",
   "metadata": {},
   "outputs": [],
   "source": [
    "import pandas as pd\n",
    "import numpy as np\n",
    "import seaborn as sns"
   ]
  },
  {
   "cell_type": "markdown",
   "id": "2818a169-cc83-4826-9912-4cf5caf926b0",
   "metadata": {},
   "source": [
    "## DDA"
   ]
  },
  {
   "cell_type": "markdown",
   "id": "b8640822-3682-4731-a493-7451f1e8c155",
   "metadata": {},
   "source": [
    "### 1. 연령별 사망률"
   ]
  },
  {
   "cell_type": "code",
   "execution_count": 60,
   "id": "1621055a-94ba-4f51-bd40-4976266c243f",
   "metadata": {},
   "outputs": [
    {
     "data": {
      "text/html": [
       "<div>\n",
       "<style scoped>\n",
       "    .dataframe tbody tr th:only-of-type {\n",
       "        vertical-align: middle;\n",
       "    }\n",
       "\n",
       "    .dataframe tbody tr th {\n",
       "        vertical-align: top;\n",
       "    }\n",
       "\n",
       "    .dataframe thead th {\n",
       "        text-align: right;\n",
       "    }\n",
       "</style>\n",
       "<table border=\"1\" class=\"dataframe\">\n",
       "  <thead>\n",
       "    <tr style=\"text-align: right;\">\n",
       "      <th></th>\n",
       "      <th>질병분류코드 및 질환별(1)</th>\n",
       "      <th>질병분류코드 및 질환별(2)</th>\n",
       "      <th>2021</th>\n",
       "      <th>2021.1</th>\n",
       "      <th>2021.2</th>\n",
       "      <th>2021.3</th>\n",
       "      <th>2021.4</th>\n",
       "      <th>2021.5</th>\n",
       "      <th>2021.6</th>\n",
       "    </tr>\n",
       "  </thead>\n",
       "  <tbody>\n",
       "    <tr>\n",
       "      <th>0</th>\n",
       "      <td>질병분류코드 및 질환별(1)</td>\n",
       "      <td>질병분류코드 및 질환별(2)</td>\n",
       "      <td>사망자수</td>\n",
       "      <td>&lt;1</td>\n",
       "      <td>1-14</td>\n",
       "      <td>15-24</td>\n",
       "      <td>25-44</td>\n",
       "      <td>45-64</td>\n",
       "      <td>65≤</td>\n",
       "    </tr>\n",
       "    <tr>\n",
       "      <th>1</th>\n",
       "      <td>계</td>\n",
       "      <td>소계</td>\n",
       "      <td>1845</td>\n",
       "      <td>34</td>\n",
       "      <td>11</td>\n",
       "      <td>15</td>\n",
       "      <td>65</td>\n",
       "      <td>344</td>\n",
       "      <td>1376</td>\n",
       "    </tr>\n",
       "    <tr>\n",
       "      <th>2</th>\n",
       "      <td>희귀질환</td>\n",
       "      <td>소계</td>\n",
       "      <td>1826</td>\n",
       "      <td>30</td>\n",
       "      <td>11</td>\n",
       "      <td>14</td>\n",
       "      <td>65</td>\n",
       "      <td>337</td>\n",
       "      <td>1369</td>\n",
       "    </tr>\n",
       "    <tr>\n",
       "      <th>3</th>\n",
       "      <td>희귀질환</td>\n",
       "      <td>A81.0 크로이츠펠트-야콥병</td>\n",
       "      <td>29</td>\n",
       "      <td>0</td>\n",
       "      <td>0</td>\n",
       "      <td>0</td>\n",
       "      <td>0</td>\n",
       "      <td>8</td>\n",
       "      <td>21</td>\n",
       "    </tr>\n",
       "    <tr>\n",
       "      <th>4</th>\n",
       "      <td>희귀질환</td>\n",
       "      <td>D59.3 비정형 용혈-요독증후군</td>\n",
       "      <td>4</td>\n",
       "      <td>0</td>\n",
       "      <td>0</td>\n",
       "      <td>0</td>\n",
       "      <td>0</td>\n",
       "      <td>0</td>\n",
       "      <td>4</td>\n",
       "    </tr>\n",
       "  </tbody>\n",
       "</table>\n",
       "</div>"
      ],
      "text/plain": [
       "   질병분류코드 및 질환별(1)     질병분류코드 및 질환별(2)  2021 2021.1 2021.2 2021.3 2021.4  \\\n",
       "0  질병분류코드 및 질환별(1)     질병분류코드 및 질환별(2)  사망자수     <1   1-14  15-24  25-44   \n",
       "1                계                  소계  1845     34     11     15     65   \n",
       "2             희귀질환                  소계  1826     30     11     14     65   \n",
       "3             희귀질환    A81.0 크로이츠펠트-야콥병    29      0      0      0      0   \n",
       "4             희귀질환  D59.3 비정형 용혈-요독증후군     4      0      0      0      0   \n",
       "\n",
       "  2021.5 2021.6  \n",
       "0  45-64    65≤  \n",
       "1    344   1376  \n",
       "2    337   1369  \n",
       "3      8     21  \n",
       "4      0      4  "
      ]
     },
     "execution_count": 60,
     "metadata": {},
     "output_type": "execute_result"
    }
   ],
   "source": [
    "df_die_21 = pd.read_csv('../csv/2021_전국_질병분류코드별_연령군별_사망자_수.csv')\n",
    "df_die_21.head()"
   ]
  },
  {
   "cell_type": "code",
   "execution_count": 61,
   "id": "4676ff9c-beb1-462b-920b-d0c5ef7de92e",
   "metadata": {},
   "outputs": [],
   "source": [
    "df_die_21 = df_die_21.rename(columns={ '2021' : '계', '2021.1' : '1세 이하', '2021.2' : '1-14세', '2021.3' : '15-24세', '2021.4' : '25-44세', '2021.5' : '45-65세', '2021.6' : '65세 이상' })"
   ]
  },
  {
   "cell_type": "code",
   "execution_count": 62,
   "id": "2f7fd697-0350-46c8-9cdb-46c45b7d2d0b",
   "metadata": {},
   "outputs": [],
   "source": [
    "df_die_21 = df_die_21.drop(index=0)"
   ]
  },
  {
   "cell_type": "code",
   "execution_count": 63,
   "id": "49cfba91-ac3d-4d31-9c2a-bc2180bd4ed8",
   "metadata": {},
   "outputs": [],
   "source": [
    "# 극희귀질환 데이터는 필요하지 않다고 판단함 -> 1845명 중 사망자가 19명\n",
    "# 단, 발생자 수의 데이터를 포함했을 때도 유의미하지 않을 경우 둘 다 삭제"
   ]
  },
  {
   "cell_type": "code",
   "execution_count": 64,
   "id": "e28191b3-38d3-4dce-8a43-c021fbd119ca",
   "metadata": {},
   "outputs": [
    {
     "data": {
      "text/html": [
       "<div>\n",
       "<style scoped>\n",
       "    .dataframe tbody tr th:only-of-type {\n",
       "        vertical-align: middle;\n",
       "    }\n",
       "\n",
       "    .dataframe tbody tr th {\n",
       "        vertical-align: top;\n",
       "    }\n",
       "\n",
       "    .dataframe thead th {\n",
       "        text-align: right;\n",
       "    }\n",
       "</style>\n",
       "<table border=\"1\" class=\"dataframe\">\n",
       "  <thead>\n",
       "    <tr style=\"text-align: right;\">\n",
       "      <th></th>\n",
       "      <th>질병분류코드 및 질환별(1)</th>\n",
       "      <th>질병분류코드 및 질환별(2)</th>\n",
       "      <th>계</th>\n",
       "      <th>1세 이하</th>\n",
       "      <th>1-14세</th>\n",
       "      <th>15-24세</th>\n",
       "      <th>25-44세</th>\n",
       "      <th>45-65세</th>\n",
       "      <th>65세 이상</th>\n",
       "    </tr>\n",
       "  </thead>\n",
       "  <tbody>\n",
       "    <tr>\n",
       "      <th>1</th>\n",
       "      <td>계</td>\n",
       "      <td>소계</td>\n",
       "      <td>1845</td>\n",
       "      <td>34</td>\n",
       "      <td>11</td>\n",
       "      <td>15</td>\n",
       "      <td>65</td>\n",
       "      <td>344</td>\n",
       "      <td>1376</td>\n",
       "    </tr>\n",
       "    <tr>\n",
       "      <th>2</th>\n",
       "      <td>희귀질환</td>\n",
       "      <td>소계</td>\n",
       "      <td>1826</td>\n",
       "      <td>30</td>\n",
       "      <td>11</td>\n",
       "      <td>14</td>\n",
       "      <td>65</td>\n",
       "      <td>337</td>\n",
       "      <td>1369</td>\n",
       "    </tr>\n",
       "    <tr>\n",
       "      <th>3</th>\n",
       "      <td>희귀질환</td>\n",
       "      <td>A81.0 크로이츠펠트-야콥병</td>\n",
       "      <td>29</td>\n",
       "      <td>0</td>\n",
       "      <td>0</td>\n",
       "      <td>0</td>\n",
       "      <td>0</td>\n",
       "      <td>8</td>\n",
       "      <td>21</td>\n",
       "    </tr>\n",
       "    <tr>\n",
       "      <th>4</th>\n",
       "      <td>희귀질환</td>\n",
       "      <td>D59.3 비정형 용혈-요독증후군</td>\n",
       "      <td>4</td>\n",
       "      <td>0</td>\n",
       "      <td>0</td>\n",
       "      <td>0</td>\n",
       "      <td>0</td>\n",
       "      <td>0</td>\n",
       "      <td>4</td>\n",
       "    </tr>\n",
       "    <tr>\n",
       "      <th>5</th>\n",
       "      <td>희귀질환</td>\n",
       "      <td>D59.5 발작성 야간헤모글로빈뇨</td>\n",
       "      <td>2</td>\n",
       "      <td>0</td>\n",
       "      <td>0</td>\n",
       "      <td>0</td>\n",
       "      <td>1</td>\n",
       "      <td>0</td>\n",
       "      <td>1</td>\n",
       "    </tr>\n",
       "  </tbody>\n",
       "</table>\n",
       "</div>"
      ],
      "text/plain": [
       "  질병분류코드 및 질환별(1)     질병분류코드 및 질환별(2)     계 1세 이하 1-14세 15-24세 25-44세 45-65세  \\\n",
       "1               계                  소계  1845    34    11     15     65    344   \n",
       "2            희귀질환                  소계  1826    30    11     14     65    337   \n",
       "3            희귀질환    A81.0 크로이츠펠트-야콥병    29     0     0      0      0      8   \n",
       "4            희귀질환  D59.3 비정형 용혈-요독증후군     4     0     0      0      0      0   \n",
       "5            희귀질환  D59.5 발작성 야간헤모글로빈뇨     2     0     0      0      1      0   \n",
       "\n",
       "  65세 이상  \n",
       "1   1376  \n",
       "2   1369  \n",
       "3     21  \n",
       "4      4  \n",
       "5      1  "
      ]
     },
     "execution_count": 64,
     "metadata": {},
     "output_type": "execute_result"
    }
   ],
   "source": [
    "df_die_21.head()"
   ]
  },
  {
   "cell_type": "code",
   "execution_count": 49,
   "id": "703c2849-ae23-4e1b-ba20-02198cfd43f5",
   "metadata": {},
   "outputs": [
    {
     "name": "stdout",
     "output_type": "stream",
     "text": [
      "<class 'pandas.core.frame.DataFrame'>\n",
      "RangeIndex: 157 entries, 1 to 157\n",
      "Data columns (total 9 columns):\n",
      " #   Column           Non-Null Count  Dtype \n",
      "---  ------           --------------  ----- \n",
      " 0   질병분류코드 및 질환별(1)  157 non-null    object\n",
      " 1   질병분류코드 및 질환별(2)  157 non-null    object\n",
      " 2   계                157 non-null    object\n",
      " 3   1세 이하            157 non-null    object\n",
      " 4   1-14세            157 non-null    object\n",
      " 5   15-24세           157 non-null    object\n",
      " 6   25-44세           157 non-null    object\n",
      " 7   45-65세           157 non-null    object\n",
      " 8   65세 이상           157 non-null    object\n",
      "dtypes: object(9)\n",
      "memory usage: 11.2+ KB\n"
     ]
    }
   ],
   "source": [
    "df_die_21.info() # 값들이 전부 object임"
   ]
  },
  {
   "cell_type": "code",
   "execution_count": 52,
   "id": "a1534133-e496-43a9-90f4-68049a425127",
   "metadata": {},
   "outputs": [],
   "source": [
    "df_die_21_age_all = df_die_21.iloc[1][3:9]\n",
    "df_die_21_age_all\n",
    "df_die_21_age_all = df_die_21_age_all.astype(int)"
   ]
  },
  {
   "cell_type": "code",
   "execution_count": 53,
   "id": "5f3f9159-a1fa-48f2-87da-73b7a1fabdd6",
   "metadata": {},
   "outputs": [
    {
     "data": {
      "image/png": "[encoded data removed]",
      "text/plain": [
       "<Figure size 800x600 with 1 Axes>"
      ]
     },
     "metadata": {},
     "output_type": "display_data"
    }
   ],
   "source": [
    "# 파이차트 제작\n",
    "df_die_21_age_all.plot.pie(figsize=(8,6), autopct='%1.1f%%', startangle=90, title='나이별 희귀질환 사망자 수')\n",
    "plt.axis('equal')\n",
    "plt.show()"
   ]
  },
  {
   "cell_type": "code",
   "execution_count": 54,
   "id": "3d555727-5665-4608-b9ab-72970aecb1f1",
   "metadata": {},
   "outputs": [
    {
     "data": {
      "image/png": "[encoded data removed]",
      "text/plain": [
       "<Figure size 1000x600 with 1 Axes>"
      ]
     },
     "metadata": {},
     "output_type": "display_data"
    }
   ],
   "source": [
    "# 선그래프 제작\n",
    "line_graph = df_die_21_age_all.plot(kind='line', figsize=(10, 6))\n",
    "for i, j in enumerate(df_die_21_age_all):\n",
    "    line_graph.text(i, j, str(j), fontsize=8,  verticalalignment='bottom')\n",
    "\n",
    "plt.xlabel('연령대')\n",
    "plt.ylabel('값')\n",
    "plt.title('연령대별 희귀질환 사망자 수')\n",
    "plt.xticks(range(len(df_die_21_age_all)), rotation=45)\n",
    "plt.show()"
   ]
  },
  {
   "cell_type": "markdown",
   "id": "d915ff43-82f1-45c4-9e60-9de1699c409a",
   "metadata": {},
   "source": [
    "- 연령대별 사망자 수 : 65세 이상 > 45-65새 > 25-44세 > 1세 이하\n",
    "- 원인이 희귀질환이 아닌 다른 질병일 수 있음을 감안해야 함\n",
    "- 가설 : 1세 이하에서 버틸 수 있는 병은 나이가 들 때까지도 사망률에 영향을 미치지 않으며 나이가 들 수록 사망률이 높은 이유는 다른 요인이 개입했을 가능성이 있음"
   ]
  },
  {
   "cell_type": "markdown",
   "id": "68ce7630-01b6-438f-9a99-a1b7c6f67762",
   "metadata": {},
   "source": [
    "### 2. 연령별 사망률에 영향을 미치는 질병"
   ]
  },
  {
   "cell_type": "code",
   "execution_count": 65,
   "id": "0356c649-ad64-4152-8aa6-856fc30af144",
   "metadata": {},
   "outputs": [
    {
     "data": {
      "text/html": [
       "<div>\n",
       "<style scoped>\n",
       "    .dataframe tbody tr th:only-of-type {\n",
       "        vertical-align: middle;\n",
       "    }\n",
       "\n",
       "    .dataframe tbody tr th {\n",
       "        vertical-align: top;\n",
       "    }\n",
       "\n",
       "    .dataframe thead th {\n",
       "        text-align: right;\n",
       "    }\n",
       "</style>\n",
       "<table border=\"1\" class=\"dataframe\">\n",
       "  <thead>\n",
       "    <tr style=\"text-align: right;\">\n",
       "      <th></th>\n",
       "      <th>질병분류코드 및 질환별(2)</th>\n",
       "      <th>계</th>\n",
       "      <th>1세 이하</th>\n",
       "      <th>1-14세</th>\n",
       "      <th>15-24세</th>\n",
       "      <th>25-44세</th>\n",
       "      <th>45-65세</th>\n",
       "      <th>65세 이상</th>\n",
       "    </tr>\n",
       "  </thead>\n",
       "  <tbody>\n",
       "    <tr>\n",
       "      <th>1</th>\n",
       "      <td>소계</td>\n",
       "      <td>1845</td>\n",
       "      <td>34</td>\n",
       "      <td>11</td>\n",
       "      <td>15</td>\n",
       "      <td>65</td>\n",
       "      <td>344</td>\n",
       "      <td>1376</td>\n",
       "    </tr>\n",
       "    <tr>\n",
       "      <th>2</th>\n",
       "      <td>소계</td>\n",
       "      <td>1826</td>\n",
       "      <td>30</td>\n",
       "      <td>11</td>\n",
       "      <td>14</td>\n",
       "      <td>65</td>\n",
       "      <td>337</td>\n",
       "      <td>1369</td>\n",
       "    </tr>\n",
       "    <tr>\n",
       "      <th>3</th>\n",
       "      <td>A81.0 크로이츠펠트-야콥병</td>\n",
       "      <td>29</td>\n",
       "      <td>0</td>\n",
       "      <td>0</td>\n",
       "      <td>0</td>\n",
       "      <td>0</td>\n",
       "      <td>8</td>\n",
       "      <td>21</td>\n",
       "    </tr>\n",
       "    <tr>\n",
       "      <th>4</th>\n",
       "      <td>D59.3 비정형 용혈-요독증후군</td>\n",
       "      <td>4</td>\n",
       "      <td>0</td>\n",
       "      <td>0</td>\n",
       "      <td>0</td>\n",
       "      <td>0</td>\n",
       "      <td>0</td>\n",
       "      <td>4</td>\n",
       "    </tr>\n",
       "    <tr>\n",
       "      <th>5</th>\n",
       "      <td>D59.5 발작성 야간헤모글로빈뇨</td>\n",
       "      <td>2</td>\n",
       "      <td>0</td>\n",
       "      <td>0</td>\n",
       "      <td>0</td>\n",
       "      <td>1</td>\n",
       "      <td>0</td>\n",
       "      <td>1</td>\n",
       "    </tr>\n",
       "  </tbody>\n",
       "</table>\n",
       "</div>"
      ],
      "text/plain": [
       "      질병분류코드 및 질환별(2)     계 1세 이하 1-14세 15-24세 25-44세 45-65세 65세 이상\n",
       "1                  소계  1845    34    11     15     65    344   1376\n",
       "2                  소계  1826    30    11     14     65    337   1369\n",
       "3    A81.0 크로이츠펠트-야콥병    29     0     0      0      0      8     21\n",
       "4  D59.3 비정형 용혈-요독증후군     4     0     0      0      0      0      4\n",
       "5  D59.5 발작성 야간헤모글로빈뇨     2     0     0      0      1      0      1"
      ]
     },
     "execution_count": 65,
     "metadata": {},
     "output_type": "execute_result"
    }
   ],
   "source": [
    "df_die_21 = df_die_21.drop(['질병분류코드 및 질환별(1)'], axis=1)"
   ]
  },
  {
   "cell_type": "code",
   "execution_count": 66,
   "id": "1995d9e3-090e-4f13-a841-24edc1a309bc",
   "metadata": {},
   "outputs": [
    {
     "data": {
      "text/html": [
       "<div>\n",
       "<style scoped>\n",
       "    .dataframe tbody tr th:only-of-type {\n",
       "        vertical-align: middle;\n",
       "    }\n",
       "\n",
       "    .dataframe tbody tr th {\n",
       "        vertical-align: top;\n",
       "    }\n",
       "\n",
       "    .dataframe thead th {\n",
       "        text-align: right;\n",
       "    }\n",
       "</style>\n",
       "<table border=\"1\" class=\"dataframe\">\n",
       "  <thead>\n",
       "    <tr style=\"text-align: right;\">\n",
       "      <th></th>\n",
       "      <th>질병분류코드 및 질환명</th>\n",
       "      <th>계</th>\n",
       "      <th>1세 이하</th>\n",
       "      <th>1-14세</th>\n",
       "      <th>15-24세</th>\n",
       "      <th>25-44세</th>\n",
       "      <th>45-65세</th>\n",
       "      <th>65세 이상</th>\n",
       "    </tr>\n",
       "  </thead>\n",
       "  <tbody>\n",
       "    <tr>\n",
       "      <th>1</th>\n",
       "      <td>소계</td>\n",
       "      <td>1845</td>\n",
       "      <td>34</td>\n",
       "      <td>11</td>\n",
       "      <td>15</td>\n",
       "      <td>65</td>\n",
       "      <td>344</td>\n",
       "      <td>1376</td>\n",
       "    </tr>\n",
       "    <tr>\n",
       "      <th>2</th>\n",
       "      <td>소계</td>\n",
       "      <td>1826</td>\n",
       "      <td>30</td>\n",
       "      <td>11</td>\n",
       "      <td>14</td>\n",
       "      <td>65</td>\n",
       "      <td>337</td>\n",
       "      <td>1369</td>\n",
       "    </tr>\n",
       "    <tr>\n",
       "      <th>3</th>\n",
       "      <td>A81.0 크로이츠펠트-야콥병</td>\n",
       "      <td>29</td>\n",
       "      <td>0</td>\n",
       "      <td>0</td>\n",
       "      <td>0</td>\n",
       "      <td>0</td>\n",
       "      <td>8</td>\n",
       "      <td>21</td>\n",
       "    </tr>\n",
       "    <tr>\n",
       "      <th>4</th>\n",
       "      <td>D59.3 비정형 용혈-요독증후군</td>\n",
       "      <td>4</td>\n",
       "      <td>0</td>\n",
       "      <td>0</td>\n",
       "      <td>0</td>\n",
       "      <td>0</td>\n",
       "      <td>0</td>\n",
       "      <td>4</td>\n",
       "    </tr>\n",
       "    <tr>\n",
       "      <th>5</th>\n",
       "      <td>D59.5 발작성 야간헤모글로빈뇨</td>\n",
       "      <td>2</td>\n",
       "      <td>0</td>\n",
       "      <td>0</td>\n",
       "      <td>0</td>\n",
       "      <td>1</td>\n",
       "      <td>0</td>\n",
       "      <td>1</td>\n",
       "    </tr>\n",
       "  </tbody>\n",
       "</table>\n",
       "</div>"
      ],
      "text/plain": [
       "         질병분류코드 및 질환명     계 1세 이하 1-14세 15-24세 25-44세 45-65세 65세 이상\n",
       "1                  소계  1845    34    11     15     65    344   1376\n",
       "2                  소계  1826    30    11     14     65    337   1369\n",
       "3    A81.0 크로이츠펠트-야콥병    29     0     0      0      0      8     21\n",
       "4  D59.3 비정형 용혈-요독증후군     4     0     0      0      0      0      4\n",
       "5  D59.5 발작성 야간헤모글로빈뇨     2     0     0      0      1      0      1"
      ]
     },
     "execution_count": 66,
     "metadata": {},
     "output_type": "execute_result"
    }
   ],
   "source": [
    "df_die_21 = df_die_21.rename(columns={'질병분류코드 및 질환별(2)' : '질병분류코드 및 질환명'})\n",
    "df_die_21.head()"
   ]
  },
  {
   "cell_type": "code",
   "execution_count": 67,
   "id": "3e008f9a-2072-497d-a9ba-f9db12eb10f8",
   "metadata": {},
   "outputs": [],
   "source": [
    "df_die_21 = df_die_21[df_die_21['질병분류코드 및 질환명'] != '소계']"
   ]
  },
  {
   "cell_type": "code",
   "execution_count": 68,
   "id": "041c1cf5-d389-42f4-bc99-0483c3890a0a",
   "metadata": {},
   "outputs": [
    {
     "data": {
      "text/html": [
       "<div>\n",
       "<style scoped>\n",
       "    .dataframe tbody tr th:only-of-type {\n",
       "        vertical-align: middle;\n",
       "    }\n",
       "\n",
       "    .dataframe tbody tr th {\n",
       "        vertical-align: top;\n",
       "    }\n",
       "\n",
       "    .dataframe thead th {\n",
       "        text-align: right;\n",
       "    }\n",
       "</style>\n",
       "<table border=\"1\" class=\"dataframe\">\n",
       "  <thead>\n",
       "    <tr style=\"text-align: right;\">\n",
       "      <th></th>\n",
       "      <th>질병분류코드 및 질환명</th>\n",
       "      <th>계</th>\n",
       "      <th>1세 이하</th>\n",
       "      <th>1-14세</th>\n",
       "      <th>15-24세</th>\n",
       "      <th>25-44세</th>\n",
       "      <th>45-65세</th>\n",
       "      <th>65세 이상</th>\n",
       "    </tr>\n",
       "  </thead>\n",
       "  <tbody>\n",
       "    <tr>\n",
       "      <th>3</th>\n",
       "      <td>A81.0 크로이츠펠트-야콥병</td>\n",
       "      <td>29</td>\n",
       "      <td>0</td>\n",
       "      <td>0</td>\n",
       "      <td>0</td>\n",
       "      <td>0</td>\n",
       "      <td>8</td>\n",
       "      <td>21</td>\n",
       "    </tr>\n",
       "    <tr>\n",
       "      <th>4</th>\n",
       "      <td>D59.3 비정형 용혈-요독증후군</td>\n",
       "      <td>4</td>\n",
       "      <td>0</td>\n",
       "      <td>0</td>\n",
       "      <td>0</td>\n",
       "      <td>0</td>\n",
       "      <td>0</td>\n",
       "      <td>4</td>\n",
       "    </tr>\n",
       "    <tr>\n",
       "      <th>5</th>\n",
       "      <td>D59.5 발작성 야간헤모글로빈뇨</td>\n",
       "      <td>2</td>\n",
       "      <td>0</td>\n",
       "      <td>0</td>\n",
       "      <td>0</td>\n",
       "      <td>1</td>\n",
       "      <td>0</td>\n",
       "      <td>1</td>\n",
       "    </tr>\n",
       "    <tr>\n",
       "      <th>6</th>\n",
       "      <td>D60.0 만성 후천성 순수적혈구무형성</td>\n",
       "      <td>4</td>\n",
       "      <td>0</td>\n",
       "      <td>0</td>\n",
       "      <td>0</td>\n",
       "      <td>1</td>\n",
       "      <td>0</td>\n",
       "      <td>3</td>\n",
       "    </tr>\n",
       "    <tr>\n",
       "      <th>7</th>\n",
       "      <td>D61.3 특발성 무형성빈혈</td>\n",
       "      <td>22</td>\n",
       "      <td>0</td>\n",
       "      <td>0</td>\n",
       "      <td>0</td>\n",
       "      <td>2</td>\n",
       "      <td>3</td>\n",
       "      <td>17</td>\n",
       "    </tr>\n",
       "  </tbody>\n",
       "</table>\n",
       "</div>"
      ],
      "text/plain": [
       "            질병분류코드 및 질환명   계 1세 이하 1-14세 15-24세 25-44세 45-65세 65세 이상\n",
       "3       A81.0 크로이츠펠트-야콥병  29     0     0      0      0      8     21\n",
       "4     D59.3 비정형 용혈-요독증후군   4     0     0      0      0      0      4\n",
       "5     D59.5 발작성 야간헤모글로빈뇨   2     0     0      0      1      0      1\n",
       "6  D60.0 만성 후천성 순수적혈구무형성   4     0     0      0      1      0      3\n",
       "7        D61.3 특발성 무형성빈혈  22     0     0      0      2      3     17"
      ]
     },
     "execution_count": 68,
     "metadata": {},
     "output_type": "execute_result"
    }
   ],
   "source": [
    "df_die_21.head()"
   ]
  },
  {
   "cell_type": "code",
   "execution_count": null,
   "id": "dbd1d8d1-fd73-412d-ba12-f196e637e031",
   "metadata": {},
   "outputs": [],
   "source": []
  }
 ],
 "metadata": {
  "kernelspec": {
   "display_name": "Python 3 (ipykernel)",
   "language": "python",
   "name": "python3"
  },
  "language_info": {
   "codemirror_mode": {
    "name": "ipython",
    "version": 3
   },
   "file_extension": ".py",
   "mimetype": "text/x-python",
   "name": "python",
   "nbconvert_exporter": "python",
   "pygments_lexer": "ipython3",
   "version": "3.11.9"
  }
 },
 "nbformat": 4,
 "nbformat_minor": 5
}
