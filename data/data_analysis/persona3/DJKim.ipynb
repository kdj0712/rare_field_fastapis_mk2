{
 "cells": [
  {
   "cell_type": "markdown",
   "id": "fc801b48-6aaf-4665-9b24-f630ced3e405",
   "metadata": {},
   "source": [
    "## SETTINGS"
   ]
  },
  {
   "cell_type": "code",
   "execution_count": null,
   "id": "04c4e5f9-c559-4845-b627-692e56adf151",
   "metadata": {
    "scrolled": true
   },
   "outputs": [],
   "source": [
    "# 폰트 설치\n",
    "!apt-get install -y fonts-nanum\n",
    "!fc-cache -fv\n",
    "!rm ~/.cache/matplotlib -rf"
   ]
  },
  {
   "cell_type": "code",
   "execution_count": 1,
   "id": "13c9f0a5-dde1-41b1-8324-661a4a89d3c6",
   "metadata": {},
   "outputs": [],
   "source": [
    "import pandas as pd\n",
    "import matplotlib as mpl\n",
    "import matplotlib.dates as mdates\n",
    "import matplotlib.pyplot as plt\n",
    "mpl.rc('font', family='NanumBarunGothic') # 혹은 다른 설치한 Nanum 폰트 사용\n",
    "import matplotlib.font_manager as fm\n",
    "# 설치된 폰트 중 'NanumGothic' 찾기\n",
    "for font in fm.fontManager.ttflist:\n",
    "    if 'NanumGothic' in font.name:\n",
    "        plt.rcParams['font.family'] = font.name\n",
    "        break\n",
    "plt.rcParams['axes.unicode_minus'] = False\n",
    "import seaborn as sns\n",
    "import numpy as np\n",
    "import scipy.stats as stats"
   ]
  },
  {
   "cell_type": "markdown",
   "id": "3672c7f1-43aa-4ddb-84d7-b9dc90e9ea2e",
   "metadata": {},
   "source": [
    "## 2021년 시도별 사망자 통계"
   ]
  },
  {
   "cell_type": "markdown",
   "id": "85a2c631-a626-4a7e-88ed-093a511c7fd0",
   "metadata": {},
   "source": [
    "### 데이터 로딩 및 "
   ]
  },
  {
   "cell_type": "code",
   "execution_count": 6,
   "id": "3080c7f2-1343-4ada-8e94-307ff6b07397",
   "metadata": {},
   "outputs": [],
   "source": [
    "df_death_statistics = pd.read_csv(\"../csv/2021년_월별_시도별_사망자통계.csv\")"
   ]
  },
  {
   "cell_type": "code",
   "execution_count": null,
   "id": "faeb8110-ba3b-46b5-8a9b-0b7a3a601e4d",
   "metadata": {},
   "outputs": [],
   "source": []
  }
 ],
 "metadata": {
  "kernelspec": {
   "display_name": "Python 3 (ipykernel)",
   "language": "python",
   "name": "python3"
  },
  "language_info": {
   "codemirror_mode": {
    "name": "ipython",
    "version": 3
   },
   "file_extension": ".py",
   "mimetype": "text/x-python",
   "name": "python",
   "nbconvert_exporter": "python",
   "pygments_lexer": "ipython3",
   "version": "3.11.9"
  }
 },
 "nbformat": 4,
 "nbformat_minor": 5
}
